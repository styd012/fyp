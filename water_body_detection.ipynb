{
 "cells": [
  {
   "cell_type": "code",
   "execution_count": 3,
   "metadata": {},
   "outputs": [
    {
     "name": "stdout",
     "output_type": "stream",
     "text": [
      "Requirement already satisfied: opencv-contrib-python in c:\\users\\91805\\miniconda3\\lib\\site-packages (4.9.0.80)\n",
      "Requirement already satisfied: numpy>=1.21.2 in c:\\users\\91805\\miniconda3\\lib\\site-packages (from opencv-contrib-python) (1.26.4)\n"
     ]
    }
   ],
   "source": [
    "!pip install --upgrade opencv-contrib-python"
   ]
  },
  {
   "cell_type": "code",
   "execution_count": 1,
   "metadata": {},
   "outputs": [
    {
     "name": "stdout",
     "output_type": "stream",
     "text": [
      "Collecting segmentation-models-pytorch\n",
      "  Using cached segmentation_models_pytorch-0.3.3-py3-none-any.whl.metadata (30 kB)\n",
      "Collecting torchvision>=0.5.0 (from segmentation-models-pytorch)\n",
      "  Using cached torchvision-0.17.2-cp311-cp311-win_amd64.whl.metadata (6.6 kB)\n",
      "Collecting pretrainedmodels==0.7.4 (from segmentation-models-pytorch)\n",
      "  Using cached pretrainedmodels-0.7.4-py3-none-any.whl\n",
      "Collecting efficientnet-pytorch==0.7.1 (from segmentation-models-pytorch)\n",
      "  Using cached efficientnet_pytorch-0.7.1-py3-none-any.whl\n",
      "Collecting timm==0.9.2 (from segmentation-models-pytorch)\n",
      "  Using cached timm-0.9.2-py3-none-any.whl.metadata (68 kB)\n",
      "Requirement already satisfied: tqdm in c:\\users\\91805\\miniconda3\\lib\\site-packages (from segmentation-models-pytorch) (4.65.0)\n",
      "Requirement already satisfied: pillow in c:\\users\\91805\\miniconda3\\lib\\site-packages (from segmentation-models-pytorch) (10.2.0)\n",
      "Requirement already satisfied: torch in c:\\users\\91805\\miniconda3\\lib\\site-packages (from efficientnet-pytorch==0.7.1->segmentation-models-pytorch) (2.2.2)\n",
      "Requirement already satisfied: munch in c:\\users\\91805\\miniconda3\\lib\\site-packages (from pretrainedmodels==0.7.4->segmentation-models-pytorch) (4.0.0)\n",
      "Requirement already satisfied: pyyaml in c:\\users\\91805\\miniconda3\\lib\\site-packages (from timm==0.9.2->segmentation-models-pytorch) (6.0.1)\n",
      "Collecting huggingface-hub (from timm==0.9.2->segmentation-models-pytorch)\n",
      "  Using cached huggingface_hub-0.22.2-py3-none-any.whl.metadata (12 kB)\n",
      "Requirement already satisfied: safetensors in c:\\users\\91805\\miniconda3\\lib\\site-packages (from timm==0.9.2->segmentation-models-pytorch) (0.4.3)\n",
      "Requirement already satisfied: numpy in c:\\users\\91805\\miniconda3\\lib\\site-packages (from torchvision>=0.5.0->segmentation-models-pytorch) (1.26.4)\n",
      "Requirement already satisfied: filelock in c:\\users\\91805\\miniconda3\\lib\\site-packages (from torch->efficientnet-pytorch==0.7.1->segmentation-models-pytorch) (3.13.4)\n",
      "Requirement already satisfied: typing-extensions>=4.8.0 in c:\\users\\91805\\miniconda3\\lib\\site-packages (from torch->efficientnet-pytorch==0.7.1->segmentation-models-pytorch) (4.11.0)\n",
      "Requirement already satisfied: sympy in c:\\users\\91805\\miniconda3\\lib\\site-packages (from torch->efficientnet-pytorch==0.7.1->segmentation-models-pytorch) (1.12)\n",
      "Requirement already satisfied: networkx in c:\\users\\91805\\miniconda3\\lib\\site-packages (from torch->efficientnet-pytorch==0.7.1->segmentation-models-pytorch) (3.3)\n",
      "Requirement already satisfied: jinja2 in c:\\users\\91805\\miniconda3\\lib\\site-packages (from torch->efficientnet-pytorch==0.7.1->segmentation-models-pytorch) (3.1.3)\n",
      "Requirement already satisfied: fsspec in c:\\users\\91805\\miniconda3\\lib\\site-packages (from torch->efficientnet-pytorch==0.7.1->segmentation-models-pytorch) (2024.3.1)\n",
      "Requirement already satisfied: colorama in c:\\users\\91805\\miniconda3\\lib\\site-packages (from tqdm->segmentation-models-pytorch) (0.4.6)\n",
      "Requirement already satisfied: packaging>=20.9 in c:\\users\\91805\\miniconda3\\lib\\site-packages (from huggingface-hub->timm==0.9.2->segmentation-models-pytorch) (23.1)\n",
      "Requirement already satisfied: requests in c:\\users\\91805\\miniconda3\\lib\\site-packages (from huggingface-hub->timm==0.9.2->segmentation-models-pytorch) (2.31.0)\n",
      "Requirement already satisfied: MarkupSafe>=2.0 in c:\\users\\91805\\miniconda3\\lib\\site-packages (from jinja2->torch->efficientnet-pytorch==0.7.1->segmentation-models-pytorch) (2.1.5)\n",
      "Requirement already satisfied: charset-normalizer<4,>=2 in c:\\users\\91805\\miniconda3\\lib\\site-packages (from requests->huggingface-hub->timm==0.9.2->segmentation-models-pytorch) (2.0.4)\n",
      "Requirement already satisfied: idna<4,>=2.5 in c:\\users\\91805\\miniconda3\\lib\\site-packages (from requests->huggingface-hub->timm==0.9.2->segmentation-models-pytorch) (3.4)\n",
      "Requirement already satisfied: urllib3<3,>=1.21.1 in c:\\users\\91805\\miniconda3\\lib\\site-packages (from requests->huggingface-hub->timm==0.9.2->segmentation-models-pytorch) (1.26.18)\n",
      "Requirement already satisfied: certifi>=2017.4.17 in c:\\users\\91805\\miniconda3\\lib\\site-packages (from requests->huggingface-hub->timm==0.9.2->segmentation-models-pytorch) (2024.2.2)\n",
      "Requirement already satisfied: mpmath>=0.19 in c:\\users\\91805\\miniconda3\\lib\\site-packages (from sympy->torch->efficientnet-pytorch==0.7.1->segmentation-models-pytorch) (1.3.0)\n",
      "Using cached segmentation_models_pytorch-0.3.3-py3-none-any.whl (106 kB)\n",
      "Using cached timm-0.9.2-py3-none-any.whl (2.2 MB)\n",
      "Using cached torchvision-0.17.2-cp311-cp311-win_amd64.whl (1.2 MB)\n",
      "Using cached huggingface_hub-0.22.2-py3-none-any.whl (388 kB)\n",
      "Installing collected packages: huggingface-hub, torchvision, efficientnet-pytorch, timm, pretrainedmodels, segmentation-models-pytorch\n",
      "Successfully installed efficientnet-pytorch-0.7.1 huggingface-hub-0.22.2 pretrainedmodels-0.7.4 segmentation-models-pytorch-0.3.3 timm-0.9.2 torchvision-0.17.2\n"
     ]
    }
   ],
   "source": [
    "!pip install segmentation-models-pytorch"
   ]
  },
  {
   "cell_type": "code",
   "execution_count": 2,
   "metadata": {},
   "outputs": [
    {
     "name": "stdout",
     "output_type": "stream",
     "text": [
      "Collecting albumentations\n",
      "  Downloading albumentations-1.4.3-py3-none-any.whl.metadata (37 kB)\n",
      "Requirement already satisfied: numpy>=1.24.4 in c:\\users\\91805\\miniconda3\\lib\\site-packages (from albumentations) (1.26.4)\n",
      "Requirement already satisfied: scipy>=1.10.0 in c:\\users\\91805\\miniconda3\\lib\\site-packages (from albumentations) (1.12.0)\n",
      "Requirement already satisfied: scikit-image>=0.21.0 in c:\\users\\91805\\miniconda3\\lib\\site-packages (from albumentations) (0.23.1)\n",
      "Requirement already satisfied: PyYAML in c:\\users\\91805\\miniconda3\\lib\\site-packages (from albumentations) (6.0.1)\n",
      "Requirement already satisfied: typing-extensions>=4.9.0 in c:\\users\\91805\\miniconda3\\lib\\site-packages (from albumentations) (4.11.0)\n",
      "Requirement already satisfied: scikit-learn>=1.3.2 in c:\\users\\91805\\miniconda3\\lib\\site-packages (from albumentations) (1.4.2)\n",
      "Collecting opencv-python-headless>=4.9.0 (from albumentations)\n",
      "  Downloading opencv_python_headless-4.9.0.80-cp37-abi3-win_amd64.whl.metadata (20 kB)\n",
      "Requirement already satisfied: networkx>=2.8 in c:\\users\\91805\\miniconda3\\lib\\site-packages (from scikit-image>=0.21.0->albumentations) (3.3)\n",
      "Requirement already satisfied: pillow>=9.1 in c:\\users\\91805\\miniconda3\\lib\\site-packages (from scikit-image>=0.21.0->albumentations) (10.2.0)\n",
      "Requirement already satisfied: imageio>=2.33 in c:\\users\\91805\\miniconda3\\lib\\site-packages (from scikit-image>=0.21.0->albumentations) (2.34.0)\n",
      "Requirement already satisfied: tifffile>=2022.8.12 in c:\\users\\91805\\miniconda3\\lib\\site-packages (from scikit-image>=0.21.0->albumentations) (2024.2.12)\n",
      "Requirement already satisfied: packaging>=21 in c:\\users\\91805\\miniconda3\\lib\\site-packages (from scikit-image>=0.21.0->albumentations) (23.1)\n",
      "Requirement already satisfied: lazy-loader>=0.4 in c:\\users\\91805\\miniconda3\\lib\\site-packages (from scikit-image>=0.21.0->albumentations) (0.4)\n",
      "Requirement already satisfied: joblib>=1.2.0 in c:\\users\\91805\\miniconda3\\lib\\site-packages (from scikit-learn>=1.3.2->albumentations) (1.4.0)\n",
      "Requirement already satisfied: threadpoolctl>=2.0.0 in c:\\users\\91805\\miniconda3\\lib\\site-packages (from scikit-learn>=1.3.2->albumentations) (3.4.0)\n",
      "Downloading albumentations-1.4.3-py3-none-any.whl (137 kB)\n",
      "   ---------------------------------------- 0.0/137.0 kB ? eta -:--:--\n",
      "   ---------------------------------------- 137.0/137.0 kB 4.1 MB/s eta 0:00:00\n",
      "Downloading opencv_python_headless-4.9.0.80-cp37-abi3-win_amd64.whl (38.5 MB)\n",
      "   ---------------------------------------- 0.0/38.5 MB ? eta -:--:--\n",
      "    --------------------------------------- 0.8/38.5 MB 23.4 MB/s eta 0:00:02\n",
      "   - -------------------------------------- 1.6/38.5 MB 20.7 MB/s eta 0:00:02\n",
      "   --- ------------------------------------ 3.0/38.5 MB 23.6 MB/s eta 0:00:02\n",
      "   ----- ---------------------------------- 5.3/38.5 MB 31.0 MB/s eta 0:00:02\n",
      "   ------- -------------------------------- 7.6/38.5 MB 34.5 MB/s eta 0:00:01\n",
      "   ---------- ----------------------------- 9.8/38.5 MB 36.8 MB/s eta 0:00:01\n",
      "   ------------- -------------------------- 12.8/38.5 MB 43.7 MB/s eta 0:00:01\n",
      "   -------------- ------------------------- 14.4/38.5 MB 43.7 MB/s eta 0:00:01\n",
      "   ----------------- ---------------------- 16.4/38.5 MB 43.7 MB/s eta 0:00:01\n",
      "   ------------------ --------------------- 18.0/38.5 MB 40.9 MB/s eta 0:00:01\n",
      "   -------------------- ------------------- 20.2/38.5 MB 40.9 MB/s eta 0:00:01\n",
      "   ---------------------- ----------------- 21.5/38.5 MB 36.4 MB/s eta 0:00:01\n",
      "   ----------------------- ---------------- 23.0/38.5 MB 34.4 MB/s eta 0:00:01\n",
      "   ------------------------- -------------- 24.2/38.5 MB 31.2 MB/s eta 0:00:01\n",
      "   ------------------------- -------------- 24.8/38.5 MB 21.8 MB/s eta 0:00:01\n",
      "   -------------------------- ------------- 25.4/38.5 MB 20.5 MB/s eta 0:00:01\n",
      "   --------------------------- ------------ 26.2/38.5 MB 17.3 MB/s eta 0:00:01\n",
      "   --------------------------- ------------ 26.6/38.5 MB 15.6 MB/s eta 0:00:01\n",
      "   ---------------------------- ----------- 27.2/38.5 MB 15.2 MB/s eta 0:00:01\n",
      "   ----------------------------- ---------- 28.6/38.5 MB 14.6 MB/s eta 0:00:01\n",
      "   ------------------------------- -------- 30.5/38.5 MB 14.2 MB/s eta 0:00:01\n",
      "   --------------------------------- ------ 32.3/38.5 MB 14.9 MB/s eta 0:00:01\n",
      "   ---------------------------------- ----- 33.0/38.5 MB 13.6 MB/s eta 0:00:01\n",
      "   ---------------------------------- ----- 33.5/38.5 MB 13.4 MB/s eta 0:00:01\n",
      "   ------------------------------------ --- 34.7/38.5 MB 11.5 MB/s eta 0:00:01\n",
      "   ------------------------------------ --- 35.4/38.5 MB 12.4 MB/s eta 0:00:01\n",
      "   ------------------------------------- -- 36.2/38.5 MB 12.8 MB/s eta 0:00:01\n",
      "   ---------------------------------------  37.8/38.5 MB 11.7 MB/s eta 0:00:01\n",
      "   ---------------------------------------  38.0/38.5 MB 11.1 MB/s eta 0:00:01\n",
      "   ---------------------------------------  38.5/38.5 MB 10.7 MB/s eta 0:00:01\n",
      "   ---------------------------------------  38.5/38.5 MB 10.7 MB/s eta 0:00:01\n",
      "   ---------------------------------------  38.5/38.5 MB 10.7 MB/s eta 0:00:01\n",
      "   ---------------------------------------  38.5/38.5 MB 10.7 MB/s eta 0:00:01\n",
      "   ---------------------------------------  38.5/38.5 MB 10.7 MB/s eta 0:00:01\n",
      "   ---------------------------------------- 38.5/38.5 MB 7.0 MB/s eta 0:00:00\n",
      "Installing collected packages: opencv-python-headless, albumentations\n",
      "Successfully installed albumentations-1.4.3 opencv-python-headless-4.9.0.80\n"
     ]
    }
   ],
   "source": [
    "!pip install albumentations"
   ]
  },
  {
   "cell_type": "code",
   "execution_count": 4,
   "metadata": {},
   "outputs": [
    {
     "data": {
      "text/plain": [
       "False"
      ]
     },
     "execution_count": 4,
     "metadata": {},
     "output_type": "execute_result"
    }
   ],
   "source": [
    "import numpy as np\n",
    "import matplotlib.pyplot as plt\n",
    "import torch\n",
    "import torch.nn as nn\n",
    "import torchvision\n",
    "import torchvision.transforms as transforms\n",
    "import os\n",
    "import glob\n",
    "import cv2\n",
    "from PIL import Image\n",
    "from torch.utils.data import Dataset, DataLoader\n",
    "from tqdm import tqdm\n",
    "import torch.nn.functional as F\n",
    "import matplotlib.image as mpimg\n",
    "import albumentations as A\n",
    "from albumentations import HorizontalFlip, VerticalFlip, Rotate\n",
    "\n",
    "\n",
    "height,width = (512, 512)\n",
    "\n",
    "torch.cuda.is_available()"
   ]
  },
  {
   "cell_type": "code",
   "execution_count": 5,
   "metadata": {},
   "outputs": [],
   "source": [
    "X = sorted(glob.glob('../input/satellite-images-of-water-bodies/Water Bodies Dataset/Images/*'))\n",
    "y = sorted(glob.glob('../input/satellite-images-of-water-bodies/Water Bodies Dataset/Masks/*'))"
   ]
  },
  {
   "cell_type": "code",
   "execution_count": 6,
   "metadata": {},
   "outputs": [
    {
     "data": {
      "text/plain": [
       "0"
      ]
     },
     "execution_count": 6,
     "metadata": {},
     "output_type": "execute_result"
    }
   ],
   "source": [
    "len(y)"
   ]
  },
  {
   "cell_type": "code",
   "execution_count": 7,
   "metadata": {},
   "outputs": [
    {
     "ename": "IndexError",
     "evalue": "list index out of range",
     "output_type": "error",
     "traceback": [
      "\u001b[1;31m---------------------------------------------------------------------------\u001b[0m",
      "\u001b[1;31mIndexError\u001b[0m                                Traceback (most recent call last)",
      "Cell \u001b[1;32mIn[7], line 1\u001b[0m\n\u001b[1;32m----> 1\u001b[0m img \u001b[38;5;241m=\u001b[39m Image\u001b[38;5;241m.\u001b[39mopen(X[\u001b[38;5;241m0\u001b[39m])\n\u001b[0;32m      2\u001b[0m mask \u001b[38;5;241m=\u001b[39m Image\u001b[38;5;241m.\u001b[39mopen(y[\u001b[38;5;241m0\u001b[39m])\u001b[38;5;241m.\u001b[39mconvert(\u001b[38;5;124m'\u001b[39m\u001b[38;5;124mL\u001b[39m\u001b[38;5;124m'\u001b[39m)\n\u001b[0;32m      3\u001b[0m plt\u001b[38;5;241m.\u001b[39msubplot(\u001b[38;5;241m1\u001b[39m, \u001b[38;5;241m2\u001b[39m, \u001b[38;5;241m1\u001b[39m)\n",
      "\u001b[1;31mIndexError\u001b[0m: list index out of range"
     ]
    }
   ],
   "source": [
    "img = Image.open(X[0])\n",
    "mask = Image.open(y[0]).convert('L')\n",
    "plt.subplot(1, 2, 1)\n",
    "plt.imshow(img)\n",
    "\n",
    "plt.subplot(1, 2, 2)\n",
    "plt.imshow(mask)"
   ]
  }
 ],
 "metadata": {
  "kernelspec": {
   "display_name": "base",
   "language": "python",
   "name": "python3"
  },
  "language_info": {
   "codemirror_mode": {
    "name": "ipython",
    "version": 3
   },
   "file_extension": ".py",
   "mimetype": "text/x-python",
   "name": "python",
   "nbconvert_exporter": "python",
   "pygments_lexer": "ipython3",
   "version": "3.11.5"
  }
 },
 "nbformat": 4,
 "nbformat_minor": 2
}
